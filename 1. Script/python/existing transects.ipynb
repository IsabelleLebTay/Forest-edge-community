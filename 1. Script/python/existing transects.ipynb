{
 "cells": [
  {
   "cell_type": "code",
   "execution_count": null,
   "metadata": {},
   "outputs": [],
   "source": [
    "import os\n",
    "import csv\n",
    "import json\n",
    "import pandas as pd\n",
    "import matplotlib.pyplot as plt\n",
    "import seaborn as sns\n",
    "\n",
    "# processed_path = \"C:/Users/ilebe/Documents/!Masters!/Chapter 3/Data synthesis/0. Data/Processed\"\n",
    "processed_path = r\"C:\\Users\\ilebe\\Documents\\!Masters!\\Forest edge community\\Forest-edge-community\\0. Data\\Processed\"\n",
    "raw_path = \"C:/Users/ilebe/Documents/!Masters!/Chapter 3/Forest edge community/Forest-edge-community/0. Data/Raw\"\n",
    "output_path = r\"C:\\Users\\ilebe\\Documents\\!Masters!\\Forest edge community\\Forest-edge-community\\2. Output\""
   ]
  },
  {
   "cell_type": "code",
   "execution_count": null,
   "metadata": {},
   "outputs": [],
   "source": [
    "transects = pd.read_csv(os.path.join(processed_path, \"transects forest harv age.csv\"))"
   ]
  },
  {
   "cell_type": "code",
   "execution_count": null,
   "metadata": {},
   "outputs": [],
   "source": [
    "transects_E0 = transects.loc[transects['location'].str[:4] == \"H-E0\"]\n",
    "transects_E0_usable = transects_E0.loc[transects['usable'] == 'yes']\n",
    "transects_E0_usable.shape"
   ]
  },
  {
   "cell_type": "code",
   "execution_count": null,
   "metadata": {},
   "outputs": [],
   "source": [
    "transects_E0_usable['Year_since_harvest'] = transects_E0_usable['sampleyear'] - transects_E0_usable['harvest_age']"
   ]
  },
  {
   "cell_type": "code",
   "execution_count": null,
   "metadata": {},
   "outputs": [],
   "source": [
    "# Plotting\n",
    "plt.figure(figsize=(12, 8))\n",
    "\n",
    "# Histogram\n",
    "plt.subplot(2, 2, 1)\n",
    "sns.histplot(transects_E0_usable['Year_since_harvest'], bins=20, kde=False, color = \"gray\")\n",
    "plt.xlabel('Year since harvest')  # Set x-axis label\n",
    "plt.title('Edge transects and years since harvest')\n",
    "plt.savefig(os.path.join(output_path, \"number of transects year since harv.png\"), bbox_inches=\"tight\", dpi=300)"
   ]
  }
 ],
 "metadata": {
  "language_info": {
   "name": "python"
  }
 },
 "nbformat": 4,
 "nbformat_minor": 2
}
